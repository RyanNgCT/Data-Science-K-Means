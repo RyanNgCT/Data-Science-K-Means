{
  "nbformat": 4,
  "nbformat_minor": 0,
  "metadata": {
    "colab": {
      "name": "Foundations of Data Science (K-Means Clustering in Python Course Notes).ipynb",
      "provenance": [],
      "collapsed_sections": []
    },
    "kernelspec": {
      "name": "python3",
      "display_name": "Python 3"
    }
  },
  "cells": [
    {
      "cell_type": "markdown",
      "metadata": {
        "id": "MZFYuQX40rwu",
        "colab_type": "text"
      },
      "source": [
        "# Foundations of Data Science: K-Means Clustering in Python Course Notes\n",
        "\n",
        "My notes and additional experiments for the Coursera Course"
      ]
    },
    {
      "cell_type": "code",
      "metadata": {
        "id": "wnviDSJh0str",
        "colab_type": "code",
        "colab": {
          "base_uri": "https://localhost:8080/",
          "height": 34
        },
        "outputId": "788425e2-cd06-43bb-fe76-c18fd8d435a8"
      },
      "source": [
        "name = \"Ryan\"\n",
        "country = \"Singapore\"\n",
        "\n",
        "print(f\"Hello, I'm {name} from {country}!\")"
      ],
      "execution_count": 1,
      "outputs": [
        {
          "output_type": "stream",
          "text": [
            "Hello, I'm Ryan from Singapore!\n"
          ],
          "name": "stdout"
        }
      ]
    },
    {
      "cell_type": "markdown",
      "metadata": {
        "id": "_JEUVZ_-0yyC",
        "colab_type": "text"
      },
      "source": [
        "### Activity 2.7\n",
        "Computing the mean"
      ]
    },
    {
      "cell_type": "code",
      "metadata": {
        "id": "aWfDQjld1CO8",
        "colab_type": "code",
        "colab": {
          "base_uri": "https://localhost:8080/",
          "height": 34
        },
        "outputId": "d4ed59cc-79e8-4de9-870a-9441dd6fe79a"
      },
      "source": [
        "ages = [20, 27, 40, 50, 60, 10]\n",
        "\n",
        "summed_ages = sum(ages) #instead of adding up and dividing manually which is tedious and a bad practice\n",
        "mean_age = summed_ages/len(ages)\n",
        "mean_age"
      ],
      "execution_count": 2,
      "outputs": [
        {
          "output_type": "execute_result",
          "data": {
            "text/plain": [
              "34.5"
            ]
          },
          "metadata": {
            "tags": []
          },
          "execution_count": 2
        }
      ]
    },
    {
      "cell_type": "markdown",
      "metadata": {
        "id": "4wtJk0Oh1E55",
        "colab_type": "text"
      },
      "source": [
        "---\n",
        "### Activity 2.8 & 2.9\n",
        "Numpy [documentation](https://numpy.org/doc/stable/user/basics.creation.html)"
      ]
    },
    {
      "cell_type": "code",
      "metadata": {
        "id": "Bxjocirz1J3x",
        "colab_type": "code",
        "colab": {
          "base_uri": "https://localhost:8080/",
          "height": 34
        },
        "outputId": "7f66b994-598c-4322-ffcb-06c973aec1a3"
      },
      "source": [
        "import numpy as np\n",
        "ages = np.array(ages)\n",
        "np.mean(ages)"
      ],
      "execution_count": 3,
      "outputs": [
        {
          "output_type": "execute_result",
          "data": {
            "text/plain": [
              "34.5"
            ]
          },
          "metadata": {
            "tags": []
          },
          "execution_count": 3
        }
      ]
    },
    {
      "cell_type": "code",
      "metadata": {
        "id": "Qg9f4gU11L6u",
        "colab_type": "code",
        "colab": {
          "base_uri": "https://localhost:8080/",
          "height": 34
        },
        "outputId": "8109f55e-e239-4930-a556-70a610867e9a"
      },
      "source": [
        "# long way of calculation\n",
        "mean = ages.mean()\n",
        "dist = ages - mean \n",
        "sq_dist = dist ** 2 # interested in variation (not +ve or -ve)\n",
        "summed_dist = np.sum(sq_dist)\n",
        "avg_dist = summed_dist/len(ages)\n",
        "std_dev = np.sqrt(avg_dist)\n",
        "std_dev"
      ],
      "execution_count": 4,
      "outputs": [
        {
          "output_type": "execute_result",
          "data": {
            "text/plain": [
              "17.260262647673315"
            ]
          },
          "metadata": {
            "tags": []
          },
          "execution_count": 4
        }
      ]
    },
    {
      "cell_type": "code",
      "metadata": {
        "id": "pGfa_SKp1PKT",
        "colab_type": "code",
        "colab": {
          "base_uri": "https://localhost:8080/",
          "height": 34
        },
        "outputId": "689d0e8d-9fb8-4689-ba54-5562aa29d750"
      },
      "source": [
        "# numpy in-built function\n",
        "np.std(ages)"
      ],
      "execution_count": 5,
      "outputs": [
        {
          "output_type": "execute_result",
          "data": {
            "text/plain": [
              "17.260262647673315"
            ]
          },
          "metadata": {
            "tags": []
          },
          "execution_count": 5
        }
      ]
    },
    {
      "cell_type": "markdown",
      "metadata": {
        "id": "qZvmhh9R1R8m",
        "colab_type": "text"
      },
      "source": [
        "---\n",
        "### Activity 3.7\n",
        "Plotting and Matplotlib\n",
        "plt.scatter [documentation](https://matplotlib.org/api/_as_gen/matplotlib.pyplot.scatter.html)"
      ]
    },
    {
      "cell_type": "code",
      "metadata": {
        "id": "vnyeTY0_1TuT",
        "colab_type": "code",
        "colab": {
          "base_uri": "https://localhost:8080/",
          "height": 282
        },
        "outputId": "4c32ca69-7468-400c-bf39-e98df1380522"
      },
      "source": [
        "import matplotlib.pyplot as plt\n",
        "xs = [10, 30, 100, 76, 48, 81]\n",
        "ys = [40, 12, 60, 34, 87, 100]\n",
        "plt.scatter(xs, ys)\n",
        "\n",
        "# start both axes at 0\n",
        "plt.xlim(xmin=0)\n",
        "plt.ylim(ymin=0)"
      ],
      "execution_count": 6,
      "outputs": [
        {
          "output_type": "execute_result",
          "data": {
            "text/plain": [
              "(0.0, 104.4)"
            ]
          },
          "metadata": {
            "tags": []
          },
          "execution_count": 6
        },
        {
          "output_type": "display_data",
          "data": {
            "image/png": "[encoded data removed]",
            "text/plain": [
              "<Figure size 432x288 with 1 Axes>"
            ]
          },
          "metadata": {
            "tags": [],
            "needs_background": "light"
          }
        }
      ]
    },
    {
      "cell_type": "markdown",
      "metadata": {
        "id": "DS5tyROD241E",
        "colab_type": "text"
      },
      "source": [
        "---\n",
        "### Activity 3.8\n",
        "Multi-dimensional mean"
      ]
    },
    {
      "cell_type": "code",
      "metadata": {
        "id": "lViOzkV11VpV",
        "colab_type": "code",
        "colab": {
          "base_uri": "https://localhost:8080/",
          "height": 282
        },
        "outputId": "f9f2db4d-28ee-4bba-b236-acdf9d2258df"
      },
      "source": [
        "# Store data in 2D array\n",
        "xys = np.array([[10, 40],[30, 12],[100, 60],[76, 34],[81, 100]])\n",
        "\n",
        "plt.scatter(xys[:,0], xys[:,1])"
      ],
      "execution_count": 7,
      "outputs": [
        {
          "output_type": "execute_result",
          "data": {
            "text/plain": [
              "<matplotlib.collections.PathCollection at 0x7ffbd2314b00>"
            ]
          },
          "metadata": {
            "tags": []
          },
          "execution_count": 7
        },
        {
          "output_type": "display_data",
          "data": {
            "image/png": "[encoded data removed]",
            "text/plain": [
              "<Figure size 432x288 with 1 Axes>"
            ]
          },
          "metadata": {
            "tags": [],
            "needs_background": "light"
          }
        }
      ]
    },
    {
      "cell_type": "code",
      "metadata": {
        "id": "fhiXuYIt1XUD",
        "colab_type": "code",
        "colab": {
          "base_uri": "https://localhost:8080/",
          "height": 34
        },
        "outputId": "bcb377d5-78c9-42b4-d7a7-cf5b074e635f"
      },
      "source": [
        "# flattened and calculated mean of all\n",
        "np.mean(xys) "
      ],
      "execution_count": 8,
      "outputs": [
        {
          "output_type": "execute_result",
          "data": {
            "text/plain": [
              "54.3"
            ]
          },
          "metadata": {
            "tags": []
          },
          "execution_count": 8
        }
      ]
    },
    {
      "cell_type": "code",
      "metadata": {
        "id": "KqJRKYx81fO0",
        "colab_type": "code",
        "colab": {
          "base_uri": "https://localhost:8080/",
          "height": 69
        },
        "outputId": "c5e760ab-59e8-47da-87af-563ad12dcd09"
      },
      "source": [
        "# Method 1: \"Clunky\"\n",
        "x_mean = np.mean(xys[:,0])\n",
        "y_mean = np.mean(xys[:,1])\n",
        "print(x_mean, y_mean, \"\\n\")\n",
        "\n",
        "# Method 2: built-in fn\n",
        "mean = np.mean(xys, 0)\n",
        "mean"
      ],
      "execution_count": 9,
      "outputs": [
        {
          "output_type": "stream",
          "text": [
            "59.4 49.2 \n",
            "\n"
          ],
          "name": "stdout"
        },
        {
          "output_type": "execute_result",
          "data": {
            "text/plain": [
              "array([59.4, 49.2])"
            ]
          },
          "metadata": {
            "tags": []
          },
          "execution_count": 9
        }
      ]
    },
    {
      "cell_type": "markdown",
      "metadata": {
        "id": "Bga6pHXB1g21",
        "colab_type": "text"
      },
      "source": [
        "---\n",
        "### Activity 3.9\n",
        "Graphical Overlays\n"
      ]
    },
    {
      "cell_type": "code",
      "metadata": {
        "id": "OfvgWUSg1lLo",
        "colab_type": "code",
        "colab": {
          "base_uri": "https://localhost:8080/",
          "height": 282
        },
        "outputId": "3739cc9a-79fb-4c90-8be1-e1900c61a5a1"
      },
      "source": [
        "import matplotlib.patches as patches\n",
        "\n",
        "std_dev = np.std(xys,0)\n",
        "\n",
        "# [x,y] coord as list, width as height (std)\n",
        "ellipse = patches.Ellipse([mean[0], mean[1]], std_dev[0]*2, std_dev[1]*2, alpha = 0.25) # alpha adjusts transparency\n",
        "\n",
        "fig, graph = plt.subplots()\n",
        "graph.scatter(xys[:,0], xys[:,1])\n",
        "graph.scatter(mean[0], mean[1])\n",
        "graph.add_patch(ellipse) "
      ],
      "execution_count": 10,
      "outputs": [
        {
          "output_type": "execute_result",
          "data": {
            "text/plain": [
              "<matplotlib.patches.Ellipse at 0x7ffbd23836d8>"
            ]
          },
          "metadata": {
            "tags": []
          },
          "execution_count": 10
        },
        {
          "output_type": "display_data",
          "data": {
            "image/png": "[encoded data removed]",
            "text/plain": [
              "<Figure size 432x288 with 1 Axes>"
            ]
          },
          "metadata": {
            "tags": [],
            "needs_background": "light"
          }
        }
      ]
    },
    {
      "cell_type": "markdown",
      "metadata": {
        "id": "crMU-0T-1oDL",
        "colab_type": "text"
      },
      "source": [
        "---\n",
        "### Activity 3.10 & 11\n",
        "Distance of Points from Mean"
      ]
    },
    {
      "cell_type": "code",
      "metadata": {
        "id": "OZKX-bER1sil",
        "colab_type": "code",
        "colab": {
          "base_uri": "https://localhost:8080/",
          "height": 52
        },
        "outputId": "4a2f878f-857f-4cb7-b545-7ceed4bf6f64"
      },
      "source": [
        "# Calculating Euclidean Distance of 1st point from Mean \n",
        "\n",
        "# Method 1\n",
        "r1 = np.sqrt(np.sum((xys[0] - mean)**2))\n",
        "\n",
        "# Method 2\n",
        "r2 = np.linalg.norm(xys[0] - mean)\n",
        "\n",
        "print(r1 == r2)\n",
        "print(r1)"
      ],
      "execution_count": 11,
      "outputs": [
        {
          "output_type": "stream",
          "text": [
            "True\n",
            "50.24937810560445\n"
          ],
          "name": "stdout"
        }
      ]
    },
    {
      "cell_type": "markdown",
      "metadata": {
        "id": "F0QTYRGu1uai",
        "colab_type": "text"
      },
      "source": [
        "For the `i`th iteration\n",
        "Calculating for multiple points requires repeating the formula: `np.linalg.norm(xys[i] - mean)`"
      ]
    },
    {
      "cell_type": "code",
      "metadata": {
        "id": "dGBzY0t-1w8k",
        "colab_type": "code",
        "colab": {
          "base_uri": "https://localhost:8080/",
          "height": 104
        },
        "outputId": "435e174e-c825-4eeb-a246-515566b0dd6f"
      },
      "source": [
        "dists = [np.linalg.norm(xy - mean) for xy in xys]\n",
        "dists"
      ],
      "execution_count": 12,
      "outputs": [
        {
          "output_type": "execute_result",
          "data": {
            "text/plain": [
              "[50.24937810560445,\n",
              " 47.415187440312835,\n",
              " 42.01190307520001,\n",
              " 22.50777643393501,\n",
              " 55.20144925633746]"
            ]
          },
          "metadata": {
            "tags": []
          },
          "execution_count": 12
        }
      ]
    },
    {
      "cell_type": "markdown",
      "metadata": {
        "id": "rVfQHCKn1zM2",
        "colab_type": "text"
      },
      "source": [
        "---\n",
        "### Activity 3.12\n",
        "Normalization"
      ]
    },
    {
      "cell_type": "code",
      "metadata": {
        "id": "NNwGFU0Q12xn",
        "colab_type": "code",
        "colab": {
          "base_uri": "https://localhost:8080/",
          "height": 34
        },
        "outputId": "ce22e148-b629-4f4a-e3ec-580c52314335"
      },
      "source": [
        "x_min, x_max = np.min(xys[:,0]), np.max(xys[:,0])\n",
        "\n",
        "normed_x = (xys[:,0] - x_min)/(x_max-x_min)\n",
        "normed_x"
      ],
      "execution_count": 13,
      "outputs": [
        {
          "output_type": "execute_result",
          "data": {
            "text/plain": [
              "array([0.        , 0.22222222, 1.        , 0.73333333, 0.78888889])"
            ]
          },
          "metadata": {
            "tags": []
          },
          "execution_count": 13
        }
      ]
    },
    {
      "cell_type": "markdown",
      "metadata": {
        "id": "qsO-nikL15_l",
        "colab_type": "text"
      },
      "source": [
        "---\n",
        "### Activity 4.1\n",
        "Pandas to read file"
      ]
    },
    {
      "cell_type": "code",
      "metadata": {
        "id": "j46qPDsZ17e7",
        "colab_type": "code",
        "colab": {
          "base_uri": "https://localhost:8080/",
          "height": 293
        },
        "outputId": "668c5a36-f777-476d-8ef8-312980bad944"
      },
      "source": [
        "import pandas as pd\n",
        "data = pd.read_csv('happyscore_income.csv')\n",
        "df = pd.DataFrame(data)\n",
        "df.head()"
      ],
      "execution_count": 15,
      "outputs": [
        {
          "output_type": "execute_result",
          "data": {
            "text/html": [
              "<div>\n",
              "<style scoped>\n",
              "    .dataframe tbody tr th:only-of-type {\n",
              "        vertical-align: middle;\n",
              "    }\n",
              "\n",
              "    .dataframe tbody tr th {\n",
              "        vertical-align: top;\n",
              "    }\n",
              "\n",
              "    .dataframe thead th {\n",
              "        text-align: right;\n",
              "    }\n",
              "</style>\n",
              "<table border=\"1\" class=\"dataframe\">\n",
              "  <thead>\n",
              "    <tr style=\"text-align: right;\">\n",
              "      <th></th>\n",
              "      <th>country</th>\n",
              "      <th>adjusted_satisfaction</th>\n",
              "      <th>avg_satisfaction</th>\n",
              "      <th>std_satisfaction</th>\n",
              "      <th>avg_income</th>\n",
              "      <th>median_income</th>\n",
              "      <th>income_inequality</th>\n",
              "      <th>region</th>\n",
              "      <th>happyScore</th>\n",
              "      <th>GDP</th>\n",
              "      <th>country.1</th>\n",
              "    </tr>\n",
              "  </thead>\n",
              "  <tbody>\n",
              "    <tr>\n",
              "      <th>0</th>\n",
              "      <td>Armenia</td>\n",
              "      <td>37.0</td>\n",
              "      <td>4.9</td>\n",
              "      <td>2.42</td>\n",
              "      <td>2096.76</td>\n",
              "      <td>1731.506667</td>\n",
              "      <td>31.445556</td>\n",
              "      <td>'Central and Eastern Europe'</td>\n",
              "      <td>4.350</td>\n",
              "      <td>0.76821</td>\n",
              "      <td>Armenia</td>\n",
              "    </tr>\n",
              "    <tr>\n",
              "      <th>1</th>\n",
              "      <td>Angola</td>\n",
              "      <td>26.0</td>\n",
              "      <td>4.3</td>\n",
              "      <td>3.19</td>\n",
              "      <td>1448.88</td>\n",
              "      <td>1044.240000</td>\n",
              "      <td>42.720000</td>\n",
              "      <td>'Sub-Saharan Africa'</td>\n",
              "      <td>4.033</td>\n",
              "      <td>0.75778</td>\n",
              "      <td>Angola</td>\n",
              "    </tr>\n",
              "    <tr>\n",
              "      <th>2</th>\n",
              "      <td>Argentina</td>\n",
              "      <td>60.0</td>\n",
              "      <td>7.1</td>\n",
              "      <td>1.91</td>\n",
              "      <td>7101.12</td>\n",
              "      <td>5109.400000</td>\n",
              "      <td>45.475556</td>\n",
              "      <td>'Latin America and Caribbean'</td>\n",
              "      <td>6.574</td>\n",
              "      <td>1.05351</td>\n",
              "      <td>Argentina</td>\n",
              "    </tr>\n",
              "    <tr>\n",
              "      <th>3</th>\n",
              "      <td>Austria</td>\n",
              "      <td>59.0</td>\n",
              "      <td>7.2</td>\n",
              "      <td>2.11</td>\n",
              "      <td>19457.04</td>\n",
              "      <td>16879.620000</td>\n",
              "      <td>30.296250</td>\n",
              "      <td>'Western Europe'</td>\n",
              "      <td>7.200</td>\n",
              "      <td>1.33723</td>\n",
              "      <td>Austria</td>\n",
              "    </tr>\n",
              "    <tr>\n",
              "      <th>4</th>\n",
              "      <td>Australia</td>\n",
              "      <td>65.0</td>\n",
              "      <td>7.6</td>\n",
              "      <td>1.80</td>\n",
              "      <td>19917.00</td>\n",
              "      <td>15846.060000</td>\n",
              "      <td>35.285000</td>\n",
              "      <td>'Australia and New Zealand'</td>\n",
              "      <td>7.284</td>\n",
              "      <td>1.33358</td>\n",
              "      <td>Australia</td>\n",
              "    </tr>\n",
              "  </tbody>\n",
              "</table>\n",
              "</div>"
            ],
            "text/plain": [
              "     country  adjusted_satisfaction  ...      GDP  country.1\n",
              "0    Armenia                   37.0  ...  0.76821    Armenia\n",
              "1     Angola                   26.0  ...  0.75778     Angola\n",
              "2  Argentina                   60.0  ...  1.05351  Argentina\n",
              "3    Austria                   59.0  ...  1.33723    Austria\n",
              "4  Australia                   65.0  ...  1.33358  Australia\n",
              "\n",
              "[5 rows x 11 columns]"
            ]
          },
          "metadata": {
            "tags": []
          },
          "execution_count": 15
        }
      ]
    },
    {
      "cell_type": "code",
      "metadata": {
        "id": "2_wHmvdr18Gq",
        "colab_type": "code",
        "colab": {}
      },
      "source": [
        "happy = data['happyScore']\n",
        "income = data['avg_income']"
      ],
      "execution_count": 16,
      "outputs": []
    },
    {
      "cell_type": "code",
      "metadata": {
        "id": "jJ8LKeuG18Ql",
        "colab_type": "code",
        "colab": {
          "base_uri": "https://localhost:8080/",
          "height": 295
        },
        "outputId": "dc645728-978d-4dbf-83cb-7ebeabfac375"
      },
      "source": [
        "plt.scatter(income, happy)\n",
        "plt.title('Relationship between Income and Happiness')\n",
        "plt.xlabel('Income ($)')\n",
        "plt.ylabel('Happiness Score')\n",
        "plt.show()"
      ],
      "execution_count": 17,
      "outputs": [
        {
          "output_type": "display_data",
          "data": {
            "image/png": "[encoded data removed]",
            "text/plain": [
              "<Figure size 432x288 with 1 Axes>"
            ]
          },
          "metadata": {
            "tags": [],
            "needs_background": "light"
          }
        }
      ]
    },
    {
      "cell_type": "markdown",
      "metadata": {
        "id": "ntOCr02N18Xm",
        "colab_type": "text"
      },
      "source": [
        "---\n",
        "### Activity 4.1a\n",
        "Sorting & Filtering"
      ]
    },
    {
      "cell_type": "code",
      "metadata": {
        "id": "75UKEcBh18dX",
        "colab_type": "code",
        "colab": {
          "base_uri": "https://localhost:8080/",
          "height": 684
        },
        "outputId": "967ac265-f8ee-47eb-f8e5-d36a89a846d1"
      },
      "source": [
        "data.sort_values(\"avg_income\", inplace = True) # sorts by avg income asc\n",
        "data"
      ],
      "execution_count": 18,
      "outputs": [
        {
          "output_type": "execute_result",
          "data": {
            "text/html": [
              "<div>\n",
              "<style scoped>\n",
              "    .dataframe tbody tr th:only-of-type {\n",
              "        vertical-align: middle;\n",
              "    }\n",
              "\n",
              "    .dataframe tbody tr th {\n",
              "        vertical-align: top;\n",
              "    }\n",
              "\n",
              "    .dataframe thead th {\n",
              "        text-align: right;\n",
              "    }\n",
              "</style>\n",
              "<table border=\"1\" class=\"dataframe\">\n",
              "  <thead>\n",
              "    <tr style=\"text-align: right;\">\n",
              "      <th></th>\n",
              "      <th>country</th>\n",
              "      <th>adjusted_satisfaction</th>\n",
              "      <th>avg_satisfaction</th>\n",
              "      <th>std_satisfaction</th>\n",
              "      <th>avg_income</th>\n",
              "      <th>median_income</th>\n",
              "      <th>income_inequality</th>\n",
              "      <th>region</th>\n",
              "      <th>happyScore</th>\n",
              "      <th>GDP</th>\n",
              "      <th>country.1</th>\n",
              "    </tr>\n",
              "  </thead>\n",
              "  <tbody>\n",
              "    <tr>\n",
              "      <th>10</th>\n",
              "      <td>Burundi</td>\n",
              "      <td>25.0</td>\n",
              "      <td>2.9</td>\n",
              "      <td>1.96</td>\n",
              "      <td>572.880</td>\n",
              "      <td>436.92</td>\n",
              "      <td>33.360000</td>\n",
              "      <td>'Sub-Saharan Africa'</td>\n",
              "      <td>2.905</td>\n",
              "      <td>0.01530</td>\n",
              "      <td>Burundi</td>\n",
              "    </tr>\n",
              "    <tr>\n",
              "      <th>65</th>\n",
              "      <td>Madagascar</td>\n",
              "      <td>33.0</td>\n",
              "      <td>3.7</td>\n",
              "      <td>1.86</td>\n",
              "      <td>574.200</td>\n",
              "      <td>415.48</td>\n",
              "      <td>40.720000</td>\n",
              "      <td>'Sub-Saharan Africa'</td>\n",
              "      <td>3.681</td>\n",
              "      <td>0.20824</td>\n",
              "      <td>Madagascar</td>\n",
              "    </tr>\n",
              "    <tr>\n",
              "      <th>58</th>\n",
              "      <td>Liberia</td>\n",
              "      <td>37.0</td>\n",
              "      <td>4.4</td>\n",
              "      <td>2.02</td>\n",
              "      <td>653.040</td>\n",
              "      <td>528.72</td>\n",
              "      <td>36.480000</td>\n",
              "      <td>'Sub-Saharan Africa'</td>\n",
              "      <td>4.571</td>\n",
              "      <td>0.07120</td>\n",
              "      <td>Liberia</td>\n",
              "    </tr>\n",
              "    <tr>\n",
              "      <th>72</th>\n",
              "      <td>Mozambique</td>\n",
              "      <td>34.0</td>\n",
              "      <td>3.8</td>\n",
              "      <td>1.76</td>\n",
              "      <td>714.720</td>\n",
              "      <td>488.52</td>\n",
              "      <td>45.580000</td>\n",
              "      <td>'Sub-Saharan Africa'</td>\n",
              "      <td>4.971</td>\n",
              "      <td>0.08308</td>\n",
              "      <td>Mozambique</td>\n",
              "    </tr>\n",
              "    <tr>\n",
              "      <th>73</th>\n",
              "      <td>Niger</td>\n",
              "      <td>34.0</td>\n",
              "      <td>3.8</td>\n",
              "      <td>1.75</td>\n",
              "      <td>718.400</td>\n",
              "      <td>535.56</td>\n",
              "      <td>37.726667</td>\n",
              "      <td>'Sub-Saharan Africa'</td>\n",
              "      <td>3.845</td>\n",
              "      <td>0.06940</td>\n",
              "      <td>Niger</td>\n",
              "    </tr>\n",
              "    <tr>\n",
              "      <th>...</th>\n",
              "      <td>...</td>\n",
              "      <td>...</td>\n",
              "      <td>...</td>\n",
              "      <td>...</td>\n",
              "      <td>...</td>\n",
              "      <td>...</td>\n",
              "      <td>...</td>\n",
              "      <td>...</td>\n",
              "      <td>...</td>\n",
              "      <td>...</td>\n",
              "      <td>...</td>\n",
              "    </tr>\n",
              "    <tr>\n",
              "      <th>16</th>\n",
              "      <td>Canada</td>\n",
              "      <td>69.0</td>\n",
              "      <td>8.0</td>\n",
              "      <td>1.71</td>\n",
              "      <td>20190.780</td>\n",
              "      <td>16829.10</td>\n",
              "      <td>33.790000</td>\n",
              "      <td>'North America'</td>\n",
              "      <td>7.427</td>\n",
              "      <td>1.32629</td>\n",
              "      <td>Canada</td>\n",
              "    </tr>\n",
              "    <tr>\n",
              "      <th>77</th>\n",
              "      <td>Norway</td>\n",
              "      <td>70.0</td>\n",
              "      <td>8.0</td>\n",
              "      <td>1.62</td>\n",
              "      <td>21877.710</td>\n",
              "      <td>19477.62</td>\n",
              "      <td>27.307500</td>\n",
              "      <td>'Western Europe'</td>\n",
              "      <td>7.522</td>\n",
              "      <td>1.45900</td>\n",
              "      <td>Norway</td>\n",
              "    </tr>\n",
              "    <tr>\n",
              "      <th>105</th>\n",
              "      <td>United States</td>\n",
              "      <td>62.0</td>\n",
              "      <td>7.3</td>\n",
              "      <td>1.92</td>\n",
              "      <td>23127.000</td>\n",
              "      <td>17925.36</td>\n",
              "      <td>41.090000</td>\n",
              "      <td>'North America'</td>\n",
              "      <td>7.119</td>\n",
              "      <td>1.39451</td>\n",
              "      <td>United States</td>\n",
              "    </tr>\n",
              "    <tr>\n",
              "      <th>17</th>\n",
              "      <td>Switzerland</td>\n",
              "      <td>70.0</td>\n",
              "      <td>8.0</td>\n",
              "      <td>1.62</td>\n",
              "      <td>23400.040</td>\n",
              "      <td>19442.92</td>\n",
              "      <td>32.930000</td>\n",
              "      <td>'Western Europe'</td>\n",
              "      <td>7.587</td>\n",
              "      <td>1.39651</td>\n",
              "      <td>Switzerland</td>\n",
              "    </tr>\n",
              "    <tr>\n",
              "      <th>61</th>\n",
              "      <td>Luxembourg</td>\n",
              "      <td>66.0</td>\n",
              "      <td>7.7</td>\n",
              "      <td>1.76</td>\n",
              "      <td>26182.275</td>\n",
              "      <td>22240.23</td>\n",
              "      <td>31.950000</td>\n",
              "      <td>'Western Europe'</td>\n",
              "      <td>6.946</td>\n",
              "      <td>1.56391</td>\n",
              "      <td>Luxembourg</td>\n",
              "    </tr>\n",
              "  </tbody>\n",
              "</table>\n",
              "<p>111 rows × 11 columns</p>\n",
              "</div>"
            ],
            "text/plain": [
              "           country  adjusted_satisfaction  ...      GDP      country.1\n",
              "10         Burundi                   25.0  ...  0.01530        Burundi\n",
              "65      Madagascar                   33.0  ...  0.20824     Madagascar\n",
              "58         Liberia                   37.0  ...  0.07120        Liberia\n",
              "72      Mozambique                   34.0  ...  0.08308     Mozambique\n",
              "73           Niger                   34.0  ...  0.06940          Niger\n",
              "..             ...                    ...  ...      ...            ...\n",
              "16          Canada                   69.0  ...  1.32629         Canada\n",
              "77          Norway                   70.0  ...  1.45900         Norway\n",
              "105  United States                   62.0  ...  1.39451  United States\n",
              "17     Switzerland                   70.0  ...  1.39651    Switzerland\n",
              "61      Luxembourg                   66.0  ...  1.56391     Luxembourg\n",
              "\n",
              "[111 rows x 11 columns]"
            ]
          },
          "metadata": {
            "tags": []
          },
          "execution_count": 18
        }
      ]
    },
    {
      "cell_type": "code",
      "metadata": {
        "id": "nObEO4yy18iG",
        "colab_type": "code",
        "colab": {
          "base_uri": "https://localhost:8080/",
          "height": 944
        },
        "outputId": "aad5f36a-94db-416d-ee93-dd0133cda462"
      },
      "source": [
        "richest = data[data['avg_income'] > 15000]\n",
        "richest"
      ],
      "execution_count": 19,
      "outputs": [
        {
          "output_type": "execute_result",
          "data": {
            "text/html": [
              "<div>\n",
              "<style scoped>\n",
              "    .dataframe tbody tr th:only-of-type {\n",
              "        vertical-align: middle;\n",
              "    }\n",
              "\n",
              "    .dataframe tbody tr th {\n",
              "        vertical-align: top;\n",
              "    }\n",
              "\n",
              "    .dataframe thead th {\n",
              "        text-align: right;\n",
              "    }\n",
              "</style>\n",
              "<table border=\"1\" class=\"dataframe\">\n",
              "  <thead>\n",
              "    <tr style=\"text-align: right;\">\n",
              "      <th></th>\n",
              "      <th>country</th>\n",
              "      <th>adjusted_satisfaction</th>\n",
              "      <th>avg_satisfaction</th>\n",
              "      <th>std_satisfaction</th>\n",
              "      <th>avg_income</th>\n",
              "      <th>median_income</th>\n",
              "      <th>income_inequality</th>\n",
              "      <th>region</th>\n",
              "      <th>happyScore</th>\n",
              "      <th>GDP</th>\n",
              "      <th>country.1</th>\n",
              "    </tr>\n",
              "  </thead>\n",
              "  <tbody>\n",
              "    <tr>\n",
              "      <th>49</th>\n",
              "      <td>Italy</td>\n",
              "      <td>57.0</td>\n",
              "      <td>6.6</td>\n",
              "      <td>1.81</td>\n",
              "      <td>15437.595000</td>\n",
              "      <td>13163.070000</td>\n",
              "      <td>34.126250</td>\n",
              "      <td>'Western Europe'</td>\n",
              "      <td>5.948</td>\n",
              "      <td>1.25114</td>\n",
              "      <td>Italy</td>\n",
              "    </tr>\n",
              "    <tr>\n",
              "      <th>44</th>\n",
              "      <td>Ireland</td>\n",
              "      <td>64.0</td>\n",
              "      <td>7.5</td>\n",
              "      <td>1.85</td>\n",
              "      <td>16657.770000</td>\n",
              "      <td>13823.160000</td>\n",
              "      <td>32.418750</td>\n",
              "      <td>'Western Europe'</td>\n",
              "      <td>6.940</td>\n",
              "      <td>1.33596</td>\n",
              "      <td>Ireland</td>\n",
              "    </tr>\n",
              "    <tr>\n",
              "      <th>90</th>\n",
              "      <td>Sweden</td>\n",
              "      <td>67.0</td>\n",
              "      <td>7.8</td>\n",
              "      <td>1.72</td>\n",
              "      <td>17032.755000</td>\n",
              "      <td>15166.605000</td>\n",
              "      <td>26.950000</td>\n",
              "      <td>'Western Europe'</td>\n",
              "      <td>7.364</td>\n",
              "      <td>1.33171</td>\n",
              "      <td>Sweden</td>\n",
              "    </tr>\n",
              "    <tr>\n",
              "      <th>36</th>\n",
              "      <td>United Kingdom</td>\n",
              "      <td>60.0</td>\n",
              "      <td>7.1</td>\n",
              "      <td>1.98</td>\n",
              "      <td>17099.550000</td>\n",
              "      <td>14172.735000</td>\n",
              "      <td>34.432500</td>\n",
              "      <td>'Western Europe'</td>\n",
              "      <td>6.867</td>\n",
              "      <td>1.26637</td>\n",
              "      <td>United Kingdom</td>\n",
              "    </tr>\n",
              "    <tr>\n",
              "      <th>7</th>\n",
              "      <td>Belgium</td>\n",
              "      <td>63.0</td>\n",
              "      <td>7.2</td>\n",
              "      <td>1.72</td>\n",
              "      <td>17168.505000</td>\n",
              "      <td>15166.455000</td>\n",
              "      <td>28.745000</td>\n",
              "      <td>'Western Europe'</td>\n",
              "      <td>6.937</td>\n",
              "      <td>1.30782</td>\n",
              "      <td>Belgium</td>\n",
              "    </tr>\n",
              "    <tr>\n",
              "      <th>33</th>\n",
              "      <td>Finland</td>\n",
              "      <td>70.0</td>\n",
              "      <td>7.9</td>\n",
              "      <td>1.53</td>\n",
              "      <td>17310.195000</td>\n",
              "      <td>14962.560000</td>\n",
              "      <td>27.723750</td>\n",
              "      <td>'Western Europe'</td>\n",
              "      <td>7.406</td>\n",
              "      <td>1.29025</td>\n",
              "      <td>Finland</td>\n",
              "    </tr>\n",
              "    <tr>\n",
              "      <th>27</th>\n",
              "      <td>Denmark</td>\n",
              "      <td>74.0</td>\n",
              "      <td>8.4</td>\n",
              "      <td>1.53</td>\n",
              "      <td>17496.510000</td>\n",
              "      <td>15630.885000</td>\n",
              "      <td>28.155000</td>\n",
              "      <td>'Western Europe'</td>\n",
              "      <td>7.527</td>\n",
              "      <td>1.32548</td>\n",
              "      <td>Denmark</td>\n",
              "    </tr>\n",
              "    <tr>\n",
              "      <th>34</th>\n",
              "      <td>France</td>\n",
              "      <td>52.0</td>\n",
              "      <td>6.4</td>\n",
              "      <td>2.15</td>\n",
              "      <td>18096.788571</td>\n",
              "      <td>14971.251429</td>\n",
              "      <td>32.255714</td>\n",
              "      <td>'Western Europe'</td>\n",
              "      <td>6.575</td>\n",
              "      <td>1.27778</td>\n",
              "      <td>France</td>\n",
              "    </tr>\n",
              "    <tr>\n",
              "      <th>76</th>\n",
              "      <td>Netherlands</td>\n",
              "      <td>69.0</td>\n",
              "      <td>7.6</td>\n",
              "      <td>1.38</td>\n",
              "      <td>18234.435000</td>\n",
              "      <td>15880.545000</td>\n",
              "      <td>29.271250</td>\n",
              "      <td>'Western Europe'</td>\n",
              "      <td>7.378</td>\n",
              "      <td>1.32944</td>\n",
              "      <td>Netherlands</td>\n",
              "    </tr>\n",
              "    <tr>\n",
              "      <th>48</th>\n",
              "      <td>Iceland</td>\n",
              "      <td>71.0</td>\n",
              "      <td>8.1</td>\n",
              "      <td>1.64</td>\n",
              "      <td>18828.345000</td>\n",
              "      <td>16179.315000</td>\n",
              "      <td>28.780000</td>\n",
              "      <td>'Western Europe'</td>\n",
              "      <td>7.561</td>\n",
              "      <td>1.30232</td>\n",
              "      <td>Iceland</td>\n",
              "    </tr>\n",
              "    <tr>\n",
              "      <th>25</th>\n",
              "      <td>Germany</td>\n",
              "      <td>61.0</td>\n",
              "      <td>7.2</td>\n",
              "      <td>1.99</td>\n",
              "      <td>19285.960000</td>\n",
              "      <td>16291.260000</td>\n",
              "      <td>31.541667</td>\n",
              "      <td>'Western Europe'</td>\n",
              "      <td>6.750</td>\n",
              "      <td>1.32792</td>\n",
              "      <td>Germany</td>\n",
              "    </tr>\n",
              "    <tr>\n",
              "      <th>3</th>\n",
              "      <td>Austria</td>\n",
              "      <td>59.0</td>\n",
              "      <td>7.2</td>\n",
              "      <td>2.11</td>\n",
              "      <td>19457.040000</td>\n",
              "      <td>16879.620000</td>\n",
              "      <td>30.296250</td>\n",
              "      <td>'Western Europe'</td>\n",
              "      <td>7.200</td>\n",
              "      <td>1.33723</td>\n",
              "      <td>Austria</td>\n",
              "    </tr>\n",
              "    <tr>\n",
              "      <th>4</th>\n",
              "      <td>Australia</td>\n",
              "      <td>65.0</td>\n",
              "      <td>7.6</td>\n",
              "      <td>1.80</td>\n",
              "      <td>19917.000000</td>\n",
              "      <td>15846.060000</td>\n",
              "      <td>35.285000</td>\n",
              "      <td>'Australia and New Zealand'</td>\n",
              "      <td>7.284</td>\n",
              "      <td>1.33358</td>\n",
              "      <td>Australia</td>\n",
              "    </tr>\n",
              "    <tr>\n",
              "      <th>16</th>\n",
              "      <td>Canada</td>\n",
              "      <td>69.0</td>\n",
              "      <td>8.0</td>\n",
              "      <td>1.71</td>\n",
              "      <td>20190.780000</td>\n",
              "      <td>16829.100000</td>\n",
              "      <td>33.790000</td>\n",
              "      <td>'North America'</td>\n",
              "      <td>7.427</td>\n",
              "      <td>1.32629</td>\n",
              "      <td>Canada</td>\n",
              "    </tr>\n",
              "    <tr>\n",
              "      <th>77</th>\n",
              "      <td>Norway</td>\n",
              "      <td>70.0</td>\n",
              "      <td>8.0</td>\n",
              "      <td>1.62</td>\n",
              "      <td>21877.710000</td>\n",
              "      <td>19477.620000</td>\n",
              "      <td>27.307500</td>\n",
              "      <td>'Western Europe'</td>\n",
              "      <td>7.522</td>\n",
              "      <td>1.45900</td>\n",
              "      <td>Norway</td>\n",
              "    </tr>\n",
              "    <tr>\n",
              "      <th>105</th>\n",
              "      <td>United States</td>\n",
              "      <td>62.0</td>\n",
              "      <td>7.3</td>\n",
              "      <td>1.92</td>\n",
              "      <td>23127.000000</td>\n",
              "      <td>17925.360000</td>\n",
              "      <td>41.090000</td>\n",
              "      <td>'North America'</td>\n",
              "      <td>7.119</td>\n",
              "      <td>1.39451</td>\n",
              "      <td>United States</td>\n",
              "    </tr>\n",
              "    <tr>\n",
              "      <th>17</th>\n",
              "      <td>Switzerland</td>\n",
              "      <td>70.0</td>\n",
              "      <td>8.0</td>\n",
              "      <td>1.62</td>\n",
              "      <td>23400.040000</td>\n",
              "      <td>19442.920000</td>\n",
              "      <td>32.930000</td>\n",
              "      <td>'Western Europe'</td>\n",
              "      <td>7.587</td>\n",
              "      <td>1.39651</td>\n",
              "      <td>Switzerland</td>\n",
              "    </tr>\n",
              "    <tr>\n",
              "      <th>61</th>\n",
              "      <td>Luxembourg</td>\n",
              "      <td>66.0</td>\n",
              "      <td>7.7</td>\n",
              "      <td>1.76</td>\n",
              "      <td>26182.275000</td>\n",
              "      <td>22240.230000</td>\n",
              "      <td>31.950000</td>\n",
              "      <td>'Western Europe'</td>\n",
              "      <td>6.946</td>\n",
              "      <td>1.56391</td>\n",
              "      <td>Luxembourg</td>\n",
              "    </tr>\n",
              "  </tbody>\n",
              "</table>\n",
              "</div>"
            ],
            "text/plain": [
              "            country  adjusted_satisfaction  ...      GDP       country.1\n",
              "49            Italy                   57.0  ...  1.25114           Italy\n",
              "44          Ireland                   64.0  ...  1.33596         Ireland\n",
              "90           Sweden                   67.0  ...  1.33171          Sweden\n",
              "36   United Kingdom                   60.0  ...  1.26637  United Kingdom\n",
              "7           Belgium                   63.0  ...  1.30782         Belgium\n",
              "33          Finland                   70.0  ...  1.29025         Finland\n",
              "27          Denmark                   74.0  ...  1.32548         Denmark\n",
              "34           France                   52.0  ...  1.27778          France\n",
              "76      Netherlands                   69.0  ...  1.32944     Netherlands\n",
              "48          Iceland                   71.0  ...  1.30232         Iceland\n",
              "25          Germany                   61.0  ...  1.32792         Germany\n",
              "3           Austria                   59.0  ...  1.33723         Austria\n",
              "4         Australia                   65.0  ...  1.33358       Australia\n",
              "16           Canada                   69.0  ...  1.32629          Canada\n",
              "77           Norway                   70.0  ...  1.45900          Norway\n",
              "105   United States                   62.0  ...  1.39451   United States\n",
              "17      Switzerland                   70.0  ...  1.39651     Switzerland\n",
              "61       Luxembourg                   66.0  ...  1.56391      Luxembourg\n",
              "\n",
              "[18 rows x 11 columns]"
            ]
          },
          "metadata": {
            "tags": []
          },
          "execution_count": 19
        }
      ]
    },
    {
      "cell_type": "markdown",
      "metadata": {
        "id": "8XF-YC5Y2Nni",
        "colab_type": "text"
      },
      "source": [
        "To filter for the country with the `lowest` average income in the `richest` dataframe, we write:"
      ]
    },
    {
      "cell_type": "code",
      "metadata": {
        "id": "OEHTBOEN18md",
        "colab_type": "code",
        "colab": {
          "base_uri": "https://localhost:8080/",
          "height": 225
        },
        "outputId": "5dee1a53-546d-4a82-d9c7-21b858bdb85c"
      },
      "source": [
        "richest.iloc[0] "
      ],
      "execution_count": 20,
      "outputs": [
        {
          "output_type": "execute_result",
          "data": {
            "text/plain": [
              "country                             Italy\n",
              "adjusted_satisfaction                  57\n",
              "avg_satisfaction                      6.6\n",
              "std_satisfaction                     1.81\n",
              "avg_income                        15437.6\n",
              "median_income                     13163.1\n",
              "income_inequality                 34.1262\n",
              "region                   'Western Europe'\n",
              "happyScore                          5.948\n",
              "GDP                               1.25114\n",
              "country.1                           Italy\n",
              "Name: 49, dtype: object"
            ]
          },
          "metadata": {
            "tags": []
          },
          "execution_count": 20
        }
      ]
    },
    {
      "cell_type": "markdown",
      "metadata": {
        "id": "Mjcr3sKt18qP",
        "colab_type": "text"
      },
      "source": [
        "To filter for the country with the `highest` average income in the `richest` dataframe, we write:"
      ]
    },
    {
      "cell_type": "code",
      "metadata": {
        "id": "X5lfKl6h18uD",
        "colab_type": "code",
        "colab": {
          "base_uri": "https://localhost:8080/",
          "height": 225
        },
        "outputId": "dfbc0235-4030-4624-982e-e06bed4b5c60"
      },
      "source": [
        "richest.iloc[-1] "
      ],
      "execution_count": 21,
      "outputs": [
        {
          "output_type": "execute_result",
          "data": {
            "text/plain": [
              "country                        Luxembourg\n",
              "adjusted_satisfaction                  66\n",
              "avg_satisfaction                      7.7\n",
              "std_satisfaction                     1.76\n",
              "avg_income                        26182.3\n",
              "median_income                     22240.2\n",
              "income_inequality                   31.95\n",
              "region                   'Western Europe'\n",
              "happyScore                          6.946\n",
              "GDP                               1.56391\n",
              "country.1                      Luxembourg\n",
              "Name: 61, dtype: object"
            ]
          },
          "metadata": {
            "tags": []
          },
          "execution_count": 21
        }
      ]
    },
    {
      "cell_type": "code",
      "metadata": {
        "id": "6HPTkwS318x-",
        "colab_type": "code",
        "colab": {
          "base_uri": "https://localhost:8080/",
          "height": 34
        },
        "outputId": "5a739eec-4ceb-4956-d78f-4a7e9e89b567"
      },
      "source": [
        "rich_mean = np.mean(richest['avg_income'])\n",
        "rich_mean"
      ],
      "execution_count": 22,
      "outputs": [
        {
          "output_type": "execute_result",
          "data": {
            "text/plain": [
              "19266.680753968256"
            ]
          },
          "metadata": {
            "tags": []
          },
          "execution_count": 22
        }
      ]
    },
    {
      "cell_type": "code",
      "metadata": {
        "id": "QSjFjpxu181Y",
        "colab_type": "code",
        "colab": {
          "base_uri": "https://localhost:8080/",
          "height": 34
        },
        "outputId": "2359a5c5-482e-4908-8f31-339fca39675c"
      },
      "source": [
        "all_mean = np.mean(data['avg_income'])\n",
        "all_mean"
      ],
      "execution_count": 23,
      "outputs": [
        {
          "output_type": "execute_result",
          "data": {
            "text/plain": [
              "6442.751416214639"
            ]
          },
          "metadata": {
            "tags": []
          },
          "execution_count": 23
        }
      ]
    },
    {
      "cell_type": "markdown",
      "metadata": {
        "id": "clgyLdqO2TSu",
        "colab_type": "text"
      },
      "source": [
        "---\n",
        "### Activity 4.1b & c\n",
        "Labelling Points on a graph\n",
        "* [pyplot](https://matplotlib.org/api/_as_gen/matplotlib.pyplot.text.html)"
      ]
    },
    {
      "cell_type": "code",
      "metadata": {
        "id": "pKiOYgFm2T4H",
        "colab_type": "code",
        "colab": {
          "base_uri": "https://localhost:8080/",
          "height": 295
        },
        "outputId": "51368f3f-8d9b-4594-f23c-1c5bdbf8e336"
      },
      "source": [
        "plt.scatter(richest['avg_income'], richest['happyScore'])\n",
        "\n",
        "# text for the 1st country\n",
        "plt.text(richest.iloc[0]['avg_income'],\n",
        "        richest.iloc[0]['happyScore'],\n",
        "        richest.iloc[0]['country']) # xpos, ypos, text to be specified\n",
        "plt.title('Relationship between Average Income and Happiness of Richest Countries')\n",
        "plt.xlabel('Average Income ($)')\n",
        "plt.ylabel('Happiness Score')\n",
        "plt.show()"
      ],
      "execution_count": 24,
      "outputs": [
        {
          "output_type": "display_data",
          "data": {
            "image/png": "[encoded data removed]",
            "text/plain": [
              "<Figure size 432x288 with 1 Axes>"
            ]
          },
          "metadata": {
            "tags": [],
            "needs_background": "light"
          }
        }
      ]
    },
    {
      "cell_type": "markdown",
      "metadata": {
        "id": "KlYUyuCd2T_e",
        "colab_type": "text"
      },
      "source": [
        "We use the `iterrows` method to iterate over the dataset.\n",
        "\n",
        "When I tried this, the code doesn't seem to work: `ValueError: Image size of 8765925x1689 pixels is too large. \n",
        "It must be less than 2^16 in each direction.`\n",
        "\n",
        "```\n",
        "for k, row in richest.iterrows():\n",
        "    plt.text(x = row['avg_income'],\n",
        "             y = row['happyScore'],\n",
        "             s = row['country'])\n",
        "```"
      ]
    },
    {
      "cell_type": "markdown",
      "metadata": {
        "id": "ft46oLMF2UHS",
        "colab_type": "text"
      },
      "source": [
        "---\n",
        "### Activity 4.2\n",
        "Making sense of the data (Eyeballing)"
      ]
    },
    {
      "cell_type": "code",
      "metadata": {
        "id": "fHufwpco2cDB",
        "colab_type": "code",
        "colab": {
          "base_uri": "https://localhost:8080/",
          "height": 312
        },
        "outputId": "0e1ee24f-3026-4ad4-9e21-64f98c6744e1"
      },
      "source": [
        "inequ = data['income_inequality']\n",
        "plt.title('Plot that shows income inequality')\n",
        "plt.xlabel('Income')\n",
        "plt.ylabel('Income Inequality')\n",
        "plt.scatter(income, happy, s = inequ*7.5, alpha = 0.25)"
      ],
      "execution_count": 25,
      "outputs": [
        {
          "output_type": "execute_result",
          "data": {
            "text/plain": [
              "<matplotlib.collections.PathCollection at 0x7ffbd1c42b70>"
            ]
          },
          "metadata": {
            "tags": []
          },
          "execution_count": 25
        },
        {
          "output_type": "display_data",
          "data": {
            "image/png": "[encoded data removed]",
            "text/plain": [
              "<Figure size 432x288 with 1 Axes>"
            ]
          },
          "metadata": {
            "tags": [],
            "needs_background": "light"
          }
        }
      ]
    },
    {
      "cell_type": "markdown",
      "metadata": {
        "id": "ejaB2w5A2cMB",
        "colab_type": "text"
      },
      "source": [
        "---\n",
        "### Activity 4.3\n",
        "Using [k-means](https://scikit-learn.org/stable/modules/generated/sklearn.cluster.KMeans.html)"
      ]
    },
    {
      "cell_type": "code",
      "metadata": {
        "id": "SptUXfsR2cTZ",
        "colab_type": "code",
        "colab": {}
      },
      "source": [
        "from sklearn.cluster import KMeans\n",
        "import numpy as np\n",
        "\n",
        "income_happy = np.column_stack((income, happy))\n",
        "np.set_printoptions(suppress=True) # remove e^x etc\n",
        "kmeans_result = KMeans(n_clusters = 3).fit(income_happy)\n"
      ],
      "execution_count": 26,
      "outputs": []
    },
    {
      "cell_type": "code",
      "metadata": {
        "id": "La9fVuhw2UUt",
        "colab_type": "code",
        "colab": {
          "base_uri": "https://localhost:8080/",
          "height": 69
        },
        "outputId": "47ea5507-ca3f-45f0-f62c-2bba5bc747bb"
      },
      "source": [
        "kmeans_result.cluster_centers_"
      ],
      "execution_count": 27,
      "outputs": [
        {
          "output_type": "execute_result",
          "data": {
            "text/plain": [
              "array([[ 2199.1212108 ,     4.75472308],\n",
              "       [18759.30217857,     7.0327    ],\n",
              "       [ 7577.55711256,     5.85080769]])"
            ]
          },
          "metadata": {
            "tags": []
          },
          "execution_count": 27
        }
      ]
    },
    {
      "cell_type": "code",
      "metadata": {
        "id": "kqcOhnWN2clV",
        "colab_type": "code",
        "colab": {
          "base_uri": "https://localhost:8080/",
          "height": 312
        },
        "outputId": "967b04e4-8d30-4304-c276-26f5a3a92e68"
      },
      "source": [
        "clusters = kmeans_result.cluster_centers_\n",
        "plt.title('Plot that shows income inequality (using k means)')\n",
        "plt.xlabel('Income')\n",
        "plt.ylabel('Income Inequality')\n",
        "plt.scatter(income, happy)\n",
        "plt.scatter(clusters[:,0], clusters[:,1], s = 1000, alpha = 0.25)"
      ],
      "execution_count": 28,
      "outputs": [
        {
          "output_type": "execute_result",
          "data": {
            "text/plain": [
              "<matplotlib.collections.PathCollection at 0x7ffbc1073ba8>"
            ]
          },
          "metadata": {
            "tags": []
          },
          "execution_count": 28
        },
        {
          "output_type": "display_data",
          "data": {
            "image/png": "[encoded data removed]",
            "text/plain": [
              "<Figure size 432x288 with 1 Axes>"
            ]
          },
          "metadata": {
            "tags": [],
            "needs_background": "light"
          }
        }
      ]
    },
    {
      "cell_type": "code",
      "metadata": {
        "id": "-fKy5Oej4owL",
        "colab_type": "code",
        "colab": {}
      },
      "source": [
        ""
      ],
      "execution_count": null,
      "outputs": []
    }
  ]
}